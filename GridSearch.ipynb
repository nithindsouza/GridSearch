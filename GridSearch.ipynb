{
  "nbformat": 4,
  "nbformat_minor": 0,
  "metadata": {
    "colab": {
      "name": "GridSearch.ipynb",
      "provenance": [],
      "collapsed_sections": [],
      "authorship_tag": "ABX9TyMg1iAro06TfR5q1BeCwCoZ",
      "include_colab_link": true
    },
    "kernelspec": {
      "name": "python3",
      "display_name": "Python 3"
    },
    "language_info": {
      "name": "python"
    },
    "accelerator": "TPU"
  },
  "cells": [
    {
      "cell_type": "markdown",
      "metadata": {
        "id": "view-in-github",
        "colab_type": "text"
      },
      "source": [
        "<a href=\"https://colab.research.google.com/github/nithindsouza/GridSearch/blob/main/GridSearch.ipynb\" target=\"_parent\"><img src=\"https://colab.research.google.com/assets/colab-badge.svg\" alt=\"Open In Colab\"/></a>"
      ]
    },
    {
      "cell_type": "code",
      "metadata": {
        "id": "Lk3wz51tV5_x"
      },
      "source": [
        "#############################Prediction ##################################\n",
        "#Part-1\n",
        "\n",
        "import pandas as pd\n",
        "import numpy as np\n",
        "pd.set_option('display.max_column',100)\n",
        "#loading dataset Data-version3.csv from google drive\n",
        "url = 'https://drive.google.com/file/d/1n__aCGFj89JcI3OFaN1Wyt7Hh0XD9iFk/view?usp=sharing'\n",
        "url2='https://drive.google.com/uc?id=' + url.split('/')[-2]\n",
        "final_df = pd.read_csv(url2)"
      ],
      "execution_count": 1,
      "outputs": []
    },
    {
      "cell_type": "code",
      "metadata": {
        "id": "BDZ52lgKfr2c"
      },
      "source": [
        "#cleaning memory\n",
        "del(url,url2)\n",
        "\n",
        "final_df['Claim_Cancellation'].unique()\n",
        "'''dropping [Claim_Cancellation] since final_df after EDA consist only 1 unique value\n",
        "Reason:15% of dataset should have Claim_Cancellation, \n",
        "ratio generated was very less so only 1 unique values generated after EDA,\n",
        "0 variance data useless for Model prediction '''\n",
        "final_df.drop(['Claim_Cancellation'] , axis = 1 , inplace = True)"
      ],
      "execution_count": 2,
      "outputs": []
    },
    {
      "cell_type": "code",
      "metadata": {
        "id": "paBXf5cQV_gx"
      },
      "source": [
        "####################scaling########################\n",
        "#Part-2\n",
        "\n",
        "from sklearn.preprocessing import scale\n",
        "df_scale = scale(final_df)"
      ],
      "execution_count": 3,
      "outputs": []
    },
    {
      "cell_type": "code",
      "metadata": {
        "colab": {
          "base_uri": "https://localhost:8080/",
          "height": 404
        },
        "id": "n5W0mI8IWChg",
        "outputId": "90e98b56-5cc3-40e2-e138-602d038ea819"
      },
      "source": [
        "#####################################PCA##########################################\n",
        "#Part-3\n",
        "\n",
        "from sklearn.decomposition import PCA\n",
        "import matplotlib.pyplot as plt\n",
        "\n",
        "#generating PCA for all 34 input features\n",
        "pca = PCA(n_components=(34))\n",
        "pca_val = pca.fit_transform(df_scale[:,:-1])   #fitting\n",
        "\n",
        "#The following code constructs the Scree plot\n",
        "plt.rcParams[\"figure.figsize\"] = (12,6)\n",
        "fig, ax = plt.subplots()\n",
        "xi = np.arange(0, 34, step=1)\n",
        "y = np.cumsum(pca.explained_variance_ratio_)\n",
        "plt.ylim(0.0,1.1)\n",
        "plt.plot(xi, y, marker='o', linestyle='--', color='b')\n",
        "plt.xlabel('Number of Components')\n",
        "plt.xticks(np.arange(0, 34, step=1)) \n",
        "plt.ylabel('Cumulative variance (%)')\n",
        "plt.title('The number of components needed to explain variance')\n",
        "plt.axhline(y=0.95, color='r', linestyle='-')\n",
        "plt.text(0.5, 0.85, '95% cut-off threshold', color = 'red', fontsize=16)\n",
        "ax.grid(axis='x')\n",
        "plt.show()"
      ],
      "execution_count": 4,
      "outputs": [
        {
          "output_type": "display_data",
          "data": {
            "image/png": "[encoded data removed]",
            "text/plain": [
              "<Figure size 864x432 with 1 Axes>"
            ]
          },
          "metadata": {
            "tags": [],
            "needs_background": "light"
          }
        }
      ]
    },
    {
      "cell_type": "code",
      "metadata": {
        "id": "EdVUjf9if1Eh"
      },
      "source": [
        "#from the screeplot we got a insight that 0-27 features are needed to get 95% of the data\n",
        "#selecting only first 28 PCA's\n",
        "pca_val = pd.DataFrame(pca_val)\n",
        "name=[]\n",
        "for i in range(1,35):\n",
        "    a=\"PCA\"+str(i)\n",
        "    name.append(a)\n",
        "pca_val.columns =name \n",
        "pca_final = pd.concat([pca_val.iloc[:,:28],final_df.Renewal], axis = 1)\n",
        "\n",
        "#cleaning memeory\n",
        "del(a,ax,fig,i,name,pca,pca_val,xi,y)"
      ],
      "execution_count": 6,
      "outputs": []
    },
    {
      "cell_type": "code",
      "metadata": {
        "id": "AWe7Wh0HWFwY"
      },
      "source": [
        "########################Splitting the data ################### \n",
        "#Part-4\n",
        "\n",
        "#splitting the data into train and test\n",
        "X = pca_final.iloc[:,:-1] # Predictors \n",
        "Y = pca_final.iloc[:,-1] # Target"
      ],
      "execution_count": 7,
      "outputs": []
    },
    {
      "cell_type": "code",
      "metadata": {
        "id": "dwEeZz2ZWIPn"
      },
      "source": [
        "#######################Grid Search for KNN##################################\n",
        "#Part-6\n",
        "'''Since GridSearch-Cross_Validation uses K-Fold \n",
        "there is no need to create seperate Train and Test data,\n",
        "Predictors and Target of full dataset will be passed'''\n",
        "from sklearn.neighbors import KNeighborsClassifier\n",
        "from sklearn.svm import SVC\n",
        "from sklearn.ensemble import RandomForestClassifier\n",
        "from sklearn.tree import DecisionTreeClassifier\n",
        "from sklearn.linear_model import LogisticRegression\n",
        "from sklearn.naive_bayes import GaussianNB\n",
        "\n",
        "from sklearn.model_selection import GridSearchCV\n",
        "\n",
        "#decalring a model instance\n",
        "knn = KNeighborsClassifier()\n",
        "svm = SVC()\n",
        "rf = RandomForestClassifier()\n",
        "dt = DecisionTreeClassifier()\n",
        "lr = LogisticRegression()\n",
        "gnb = GaussianNB()\n",
        "\n",
        "#creating list of models\n",
        "model_all = [knn , svm , rf , dt , lr , gnb]\n",
        "\n",
        "#decalring parameters for hyper tuning\n",
        "param1 = {\"n_neighbors\":[3,5,7,9,11,13,15,17,19,21],\n",
        "          \"weights\":['uniform','distance'],\n",
        "          \"metric\":['euclidean','manhattan']}\n",
        "\n",
        "param2 = {'C': [0.1,1, 10, 100],\n",
        "          'gamma': [1,0.1,0.01,0.001],\n",
        "          'kernel': ['rbf', 'poly', 'sigmoid']}\n",
        "param3 = {\n",
        "    'bootstrap': [True],\n",
        "    'max_depth': [80, 90, 100, 110],\n",
        "    'max_features': [2, 3],\n",
        "    'min_samples_leaf': [3, 4, 5],\n",
        "    'min_samples_split': [8, 10, 12],\n",
        "    'n_estimators': [100, 200, 300, 1000]\n",
        "}\n",
        "\n",
        "param4 = { 'criterion':['gini','entropy'],\n",
        "          'max_depth': np.arange(3, 15)}\n",
        "\n",
        "param5 = {'penalty': ['l1', 'l2'],\n",
        "          'C':[0.001,.009,0.01,.09,1,5,10,25]}\n",
        "\n",
        "param6 = {\n",
        "    'var_smoothing': [1e-2, 1e-3, 1e-4, 1e-5, 1e-6, 1e-7, 1e-8, 1e-9, 1e-10, 1e-11, 1e-12, 1e-13, 1e-14, 1e-15]\n",
        "}\n",
        "\n",
        "#creating list of parameters\n",
        "model_param =[param1, param2, param3, param4 , param5 , param6]\n",
        "\n",
        "#Creating a string names for all the models, later used to campare model performance\n",
        "model_log = [\"_knn\", \"_svm\", \"_rf\", \"_dt\" , \"_lr\" , \"_gnb\"]\n",
        "\n",
        "#creating empty df\n",
        "Grid_knn = Grid_svm = Grid_rf = Grid_dt = Grid_lr = Grid_gnb = pd.DataFrame()"
      ],
      "execution_count": 8,
      "outputs": []
    },
    {
      "cell_type": "code",
      "metadata": {
        "colab": {
          "base_uri": "https://localhost:8080/"
        },
        "id": "BBt-XopTWM2Q",
        "outputId": "ffe65249-a922-4161-9a0d-a1d9c7cc647b"
      },
      "source": [
        "#######################GridSearch-Cross_Validation function#################\n",
        "#Part-7\n",
        "#creating k-fold of 10\n",
        "for i in range(len(model_all)):\n",
        "    Grid=GridSearchCV(estimator=model_all[i], param_grid=model_param[i], \n",
        "                      n_jobs=-1, cv=10, verbose=3 ).fit(X,Y)\n",
        "    globals()['Grid%s' % model_log[i]]=pd.DataFrame(Grid.cv_results_)\n",
        "\n",
        "    '''above loop creates dataframes for all possible combinations of models having columns named mean test scores \n",
        "and ranking(ranking for mean test scores) '''"
      ],
      "execution_count": 9,
      "outputs": [
        {
          "output_type": "stream",
          "text": [
            "Fitting 10 folds for each of 40 candidates, totalling 400 fits\n"
          ],
          "name": "stdout"
        },
        {
          "output_type": "stream",
          "text": [
            "[Parallel(n_jobs=-1)]: Using backend LokyBackend with 2 concurrent workers.\n",
            "[Parallel(n_jobs=-1)]: Done  58 tasks      | elapsed:    1.9s\n",
            "[Parallel(n_jobs=-1)]: Done 400 out of 400 | elapsed:    5.4s finished\n",
            "[Parallel(n_jobs=-1)]: Using backend LokyBackend with 2 concurrent workers.\n"
          ],
          "name": "stderr"
        },
        {
          "output_type": "stream",
          "text": [
            "Fitting 10 folds for each of 48 candidates, totalling 480 fits\n"
          ],
          "name": "stdout"
        },
        {
          "output_type": "stream",
          "text": [
            "[Parallel(n_jobs=-1)]: Done  52 tasks      | elapsed:    2.7s\n",
            "[Parallel(n_jobs=-1)]: Done 244 tasks      | elapsed:   11.6s\n",
            "[Parallel(n_jobs=-1)]: Done 480 out of 480 | elapsed:   24.6s finished\n",
            "[Parallel(n_jobs=-1)]: Using backend LokyBackend with 2 concurrent workers.\n"
          ],
          "name": "stderr"
        },
        {
          "output_type": "stream",
          "text": [
            "Fitting 10 folds for each of 288 candidates, totalling 2880 fits\n"
          ],
          "name": "stdout"
        },
        {
          "output_type": "stream",
          "text": [
            "[Parallel(n_jobs=-1)]: Done  28 tasks      | elapsed:   11.9s\n",
            "[Parallel(n_jobs=-1)]: Done 124 tasks      | elapsed:  1.8min\n",
            "[Parallel(n_jobs=-1)]: Done 284 tasks      | elapsed:  4.0min\n",
            "[Parallel(n_jobs=-1)]: Done 796 tasks      | elapsed: 12.1min\n",
            "[Parallel(n_jobs=-1)]: Done 1148 tasks      | elapsed: 17.2min\n",
            "[Parallel(n_jobs=-1)]: Done 1564 tasks      | elapsed: 24.0min\n",
            "[Parallel(n_jobs=-1)]: Done 2044 tasks      | elapsed: 31.4min\n",
            "[Parallel(n_jobs=-1)]: Done 2588 tasks      | elapsed: 39.3min\n",
            "[Parallel(n_jobs=-1)]: Done 2880 out of 2880 | elapsed: 44.4min finished\n"
          ],
          "name": "stderr"
        },
        {
          "output_type": "stream",
          "text": [
            "Fitting 10 folds for each of 24 candidates, totalling 240 fits\n"
          ],
          "name": "stdout"
        },
        {
          "output_type": "stream",
          "text": [
            "[Parallel(n_jobs=-1)]: Using backend LokyBackend with 2 concurrent workers.\n",
            "[Parallel(n_jobs=-1)]: Done 156 tasks      | elapsed:    3.0s\n",
            "[Parallel(n_jobs=-1)]: Done 240 out of 240 | elapsed:    6.3s finished\n",
            "[Parallel(n_jobs=-1)]: Using backend LokyBackend with 2 concurrent workers.\n"
          ],
          "name": "stderr"
        },
        {
          "output_type": "stream",
          "text": [
            "Fitting 10 folds for each of 16 candidates, totalling 160 fits\n"
          ],
          "name": "stdout"
        },
        {
          "output_type": "stream",
          "text": [
            "[Parallel(n_jobs=-1)]: Done 132 tasks      | elapsed:    0.6s\n",
            "[Parallel(n_jobs=-1)]: Done 160 out of 160 | elapsed:    0.9s finished\n",
            "[Parallel(n_jobs=-1)]: Using backend LokyBackend with 2 concurrent workers.\n"
          ],
          "name": "stderr"
        },
        {
          "output_type": "stream",
          "text": [
            "Fitting 10 folds for each of 14 candidates, totalling 140 fits\n"
          ],
          "name": "stdout"
        },
        {
          "output_type": "stream",
          "text": [
            "[Parallel(n_jobs=-1)]: Done 132 tasks      | elapsed:    0.6s\n",
            "[Parallel(n_jobs=-1)]: Done 140 out of 140 | elapsed:    0.6s finished\n"
          ],
          "name": "stderr"
        }
      ]
    },
    {
      "cell_type": "code",
      "metadata": {
        "colab": {
          "base_uri": "https://localhost:8080/"
        },
        "id": "hFihXv9kgDUV",
        "outputId": "53619f6d-a345-4a5f-d206-ccea2d9d4104"
      },
      "source": [
        "\n",
        "#selecting rank 1 model in each dataset\n",
        "best_knn = Grid_knn[['mean_test_score' , 'rank_test_score']].query('rank_test_score== 1')\n",
        "best_svm = Grid_svm[['mean_test_score' , 'rank_test_score']].query('rank_test_score== 1')\n",
        "best_rf = Grid_rf[['mean_test_score' , 'rank_test_score']].query('rank_test_score== 1')\n",
        "best_dt = Grid_dt[['mean_test_score' , 'rank_test_score']].query('rank_test_score== 1')\n",
        "best_lr = Grid_lr[['mean_test_score' , 'rank_test_score']].query('rank_test_score== 1')\n",
        "best_gnb = Grid_gnb[['mean_test_score' , 'rank_test_score']].query('rank_test_score== 1')\n",
        "\n",
        "#printing test accuracy for all best models\n",
        "print(\"Test accuracy for best KNeighborsClassifier model:\",format(100*best_knn.iloc[0,0],\".2f\"),\"%\")\n",
        "print(\"Test accuracy for best SVC model:\",format(100*best_svm.iloc[0,0],\".2f\"),\"%\")\n",
        "print(\"Test accuracy for best RandomForestClassifier model:\",format(100*best_rf.iloc[0,0],\".2f\"),\"%\")\n",
        "print(\"Test accuracy for best DecisionTreeClassifier model:\",format(100*best_dt.iloc[0,0],\".2f\"),\"%\")\n",
        "print(\"Test accuracy for best LogisticRegression model:\",format(100*best_lr.iloc[0,0],\".2f\"),\"%\")\n",
        "print(\"Test accuracy for best GaussianNB model:\",format(100*best_gnb.iloc[0,0],\".2f\"),\"%\")"
      ],
      "execution_count": 10,
      "outputs": [
        {
          "output_type": "stream",
          "text": [
            "Test accuracy for best KNeighborsClassifier model: 52.90 %\n",
            "Test accuracy for best SVC model: 51.90 %\n",
            "Test accuracy for best RandomForestClassifier model: 52.10 %\n",
            "Test accuracy for best DecisionTreeClassifier model: 51.00 %\n",
            "Test accuracy for best LogisticRegression model: 48.60 %\n",
            "Test accuracy for best GaussianNB model: 50.10 %\n"
          ],
          "name": "stdout"
        }
      ]
    }
  ]
}